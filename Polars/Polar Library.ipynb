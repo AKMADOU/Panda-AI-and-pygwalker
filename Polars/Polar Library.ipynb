{
 "cells": [
  {
   "cell_type": "markdown",
   "id": "64232949",
   "metadata": {
    "code_folding": [],
    "heading_collapsed": true
   },
   "source": [
    "### Install libs & import"
   ]
  },
  {
   "cell_type": "code",
   "execution_count": 2,
   "id": "eacb58c7",
   "metadata": {
    "hidden": true
   },
   "outputs": [],
   "source": [
    "# !pip install polars"
   ]
  },
  {
   "cell_type": "code",
   "execution_count": 3,
   "id": "b592a3ba",
   "metadata": {
    "hidden": true
   },
   "outputs": [],
   "source": [
    "import polars as pl\n",
    "import numpy as np\n",
    "import matplotlib.pyplot as plt"
   ]
  },
  {
   "cell_type": "markdown",
   "id": "cfae2395",
   "metadata": {
    "code_folding": [],
    "heading_collapsed": true
   },
   "source": [
    "### Read data"
   ]
  },
  {
   "cell_type": "code",
   "execution_count": 5,
   "id": "64c147b4",
   "metadata": {
    "hidden": true
   },
   "outputs": [
    {
     "data": {
      "text/html": [
       "<div><style>\n",
       ".dataframe > thead > tr,\n",
       ".dataframe > tbody > tr {\n",
       "  text-align: right;\n",
       "  white-space: pre-wrap;\n",
       "}\n",
       "</style>\n",
       "<small>shape: (5, 21)</small><table border=\"1\" class=\"dataframe\"><thead><tr><th>productcategory</th><th>productsubcategory</th><th>saleterritory</th><th>zip</th><th>State</th><th>Customer</th><th>Employee</th><th>OrderCount</th><th>OrderDate</th><th>StandardCost</th><th>UnitPrice</th><th>ListPrice</th><th>SaleswithStandard</th><th>NetSales</th><th>OrderQuantity</th><th>Sales</th><th>Country_y</th><th>Territory</th><th>State_duplicated_0</th><th>StateCD</th><th>City_y</th></tr><tr><td>str</td><td>str</td><td>str</td><td>i64</td><td>str</td><td>str</td><td>str</td><td>i64</td><td>str</td><td>f64</td><td>f64</td><td>f64</td><td>f64</td><td>f64</td><td>i64</td><td>f64</td><td>str</td><td>str</td><td>str</td><td>str</td><td>str</td></tr></thead><tbody><tr><td>&quot;Clothing&quot;</td><td>&quot;Caps&quot;</td><td>&quot;Northwest&quot;</td><td>82601</td><td>&quot;Wyoming&quot;</td><td>&quot;François Ferrier&quot;</td><td>&quot;David Campbell&quot;</td><td>1</td><td>&quot;5/31/2011 0:00&quot;</td><td>6.9223</td><td>5.1865</td><td>8.6442</td><td>20.7669</td><td>-5.2074</td><td>3</td><td>15.5595</td><td>&quot;US&quot;</td><td>&quot;Casper&quot;</td><td>&quot;Wyoming&quot;</td><td>&quot;WY&quot;</td><td>&quot;Natrona&quot;</td></tr><tr><td>&quot;Clothing&quot;</td><td>&quot;Caps&quot;</td><td>&quot;Northwest&quot;</td><td>98104</td><td>&quot;Washington&quot;</td><td>&quot;Richard Bready&quot;</td><td>&quot;David Campbell&quot;</td><td>1</td><td>&quot;5/31/2011 0:00&quot;</td><td>6.9223</td><td>5.1865</td><td>8.6442</td><td>13.8446</td><td>-3.4716</td><td>2</td><td>10.373</td><td>&quot;US&quot;</td><td>&quot;Seattle&quot;</td><td>&quot;Washington&quot;</td><td>&quot;WA&quot;</td><td>&quot;King&quot;</td></tr><tr><td>&quot;Components&quot;</td><td>&quot;Mountain Frames&quot;</td><td>&quot;Northwest&quot;</td><td>98371</td><td>&quot;Washington&quot;</td><td>&quot;Carolyn Farino&quot;</td><td>&quot;David Campbell&quot;</td><td>1</td><td>&quot;5/31/2011 0:00&quot;</td><td>739.041</td><td>714.7043</td><td>1191.1739</td><td>739.041</td><td>-24.3367</td><td>1</td><td>714.7043</td><td>&quot;US&quot;</td><td>&quot;Puyallup&quot;</td><td>&quot;Washington&quot;</td><td>&quot;WA&quot;</td><td>&quot;Pierce&quot;</td></tr><tr><td>&quot;Clothing&quot;</td><td>&quot;Jerseys&quot;</td><td>&quot;Northwest&quot;</td><td>82601</td><td>&quot;Wyoming&quot;</td><td>&quot;François Ferrier&quot;</td><td>&quot;David Campbell&quot;</td><td>1</td><td>&quot;5/31/2011 0:00&quot;</td><td>38.4923</td><td>28.8404</td><td>48.0673</td><td>76.9846</td><td>-19.3038</td><td>2</td><td>57.6808</td><td>&quot;US&quot;</td><td>&quot;Casper&quot;</td><td>&quot;Wyoming&quot;</td><td>&quot;WY&quot;</td><td>&quot;Natrona&quot;</td></tr><tr><td>&quot;Clothing&quot;</td><td>&quot;Jerseys&quot;</td><td>&quot;Northwest&quot;</td><td>98104</td><td>&quot;Washington&quot;</td><td>&quot;Richard Bready&quot;</td><td>&quot;David Campbell&quot;</td><td>1</td><td>&quot;5/31/2011 0:00&quot;</td><td>38.4923</td><td>28.8404</td><td>48.0673</td><td>76.9846</td><td>-19.3038</td><td>2</td><td>57.6808</td><td>&quot;US&quot;</td><td>&quot;Seattle&quot;</td><td>&quot;Washington&quot;</td><td>&quot;WA&quot;</td><td>&quot;King&quot;</td></tr></tbody></table></div>"
      ],
      "text/plain": [
       "shape: (5, 21)\n",
       "┌─────────────┬─────────────┬─────────────┬───────┬───┬───────────┬────────────┬─────────┬─────────┐\n",
       "│ productcate ┆ productsubc ┆ saleterrito ┆ zip   ┆ … ┆ Territory ┆ State_dupl ┆ StateCD ┆ City_y  │\n",
       "│ gory        ┆ ategory     ┆ ry          ┆ ---   ┆   ┆ ---       ┆ icated_0   ┆ ---     ┆ ---     │\n",
       "│ ---         ┆ ---         ┆ ---         ┆ i64   ┆   ┆ str       ┆ ---        ┆ str     ┆ str     │\n",
       "│ str         ┆ str         ┆ str         ┆       ┆   ┆           ┆ str        ┆         ┆         │\n",
       "╞═════════════╪═════════════╪═════════════╪═══════╪═══╪═══════════╪════════════╪═════════╪═════════╡\n",
       "│ Clothing    ┆ Caps        ┆ Northwest   ┆ 82601 ┆ … ┆ Casper    ┆ Wyoming    ┆ WY      ┆ Natrona │\n",
       "│ Clothing    ┆ Caps        ┆ Northwest   ┆ 98104 ┆ … ┆ Seattle   ┆ Washington ┆ WA      ┆ King    │\n",
       "│ Components  ┆ Mountain    ┆ Northwest   ┆ 98371 ┆ … ┆ Puyallup  ┆ Washington ┆ WA      ┆ Pierce  │\n",
       "│             ┆ Frames      ┆             ┆       ┆   ┆           ┆            ┆         ┆         │\n",
       "│ Clothing    ┆ Jerseys     ┆ Northwest   ┆ 82601 ┆ … ┆ Casper    ┆ Wyoming    ┆ WY      ┆ Natrona │\n",
       "│ Clothing    ┆ Jerseys     ┆ Northwest   ┆ 98104 ┆ … ┆ Seattle   ┆ Washington ┆ WA      ┆ King    │\n",
       "└─────────────┴─────────────┴─────────────┴───────┴───┴───────────┴────────────┴─────────┴─────────┘"
      ]
     },
     "execution_count": 5,
     "metadata": {},
     "output_type": "execute_result"
    }
   ],
   "source": [
    "df = pl.read_csv('data.csv')\n",
    "df.head()"
   ]
  },
  {
   "cell_type": "code",
   "execution_count": 6,
   "id": "21935699",
   "metadata": {
    "hidden": true
   },
   "outputs": [
    {
     "data": {
      "text/plain": [
       "<bound method DataFrame.describe of shape: (38_802, 21)\n",
       "┌────────────┬────────────┬────────────┬───────┬───┬───────────┬────────────┬─────────┬────────────┐\n",
       "│ productcat ┆ productsub ┆ saleterrit ┆ zip   ┆ … ┆ Territory ┆ State_dupl ┆ StateCD ┆ City_y     │\n",
       "│ egory      ┆ category   ┆ ory        ┆ ---   ┆   ┆ ---       ┆ icated_0   ┆ ---     ┆ ---        │\n",
       "│ ---        ┆ ---        ┆ ---        ┆ i64   ┆   ┆ str       ┆ ---        ┆ str     ┆ str        │\n",
       "│ str        ┆ str        ┆ str        ┆       ┆   ┆           ┆ str        ┆         ┆            │\n",
       "╞════════════╪════════════╪════════════╪═══════╪═══╪═══════════╪════════════╪═════════╪════════════╡\n",
       "│ Clothing   ┆ Caps       ┆ Northwest  ┆ 82601 ┆ … ┆ Casper    ┆ Wyoming    ┆ WY      ┆ Natrona    │\n",
       "│ Clothing   ┆ Caps       ┆ Northwest  ┆ 98104 ┆ … ┆ Seattle   ┆ Washington ┆ WA      ┆ King       │\n",
       "│ Components ┆ Mountain   ┆ Northwest  ┆ 98371 ┆ … ┆ Puyallup  ┆ Washington ┆ WA      ┆ Pierce     │\n",
       "│            ┆ Frames     ┆            ┆       ┆   ┆           ┆            ┆         ┆            │\n",
       "│ Clothing   ┆ Jerseys    ┆ Northwest  ┆ 82601 ┆ … ┆ Casper    ┆ Wyoming    ┆ WY      ┆ Natrona    │\n",
       "│ Clothing   ┆ Jerseys    ┆ Northwest  ┆ 98104 ┆ … ┆ Seattle   ┆ Washington ┆ WA      ┆ King       │\n",
       "│ …          ┆ …          ┆ …          ┆ …     ┆ … ┆ …         ┆ …          ┆ …       ┆ …          │\n",
       "│ Clothing   ┆ Shorts     ┆ Southeast  ┆ 30030 ┆ … ┆ Decatur   ┆ Georgia    ┆ GA      ┆ DeKalb     │\n",
       "│ Clothing   ┆ Shorts     ┆ Southeast  ┆ 33127 ┆ … ┆ Miami     ┆ Florida    ┆ FL      ┆ Miami-Dade │\n",
       "│ Clothing   ┆ Shorts     ┆ Southeast  ┆ 30030 ┆ … ┆ Decatur   ┆ Georgia    ┆ GA      ┆ DeKalb     │\n",
       "│ Clothing   ┆ Shorts     ┆ Southeast  ┆ 30030 ┆ … ┆ Decatur   ┆ Georgia    ┆ GA      ┆ DeKalb     │\n",
       "│ Clothing   ┆ Shorts     ┆ Southeast  ┆ 33127 ┆ … ┆ Miami     ┆ Florida    ┆ FL      ┆ Miami-Dade │\n",
       "└────────────┴────────────┴────────────┴───────┴───┴───────────┴────────────┴─────────┴────────────┘>"
      ]
     },
     "execution_count": 6,
     "metadata": {},
     "output_type": "execute_result"
    }
   ],
   "source": [
    "df.describe"
   ]
  },
  {
   "cell_type": "code",
   "execution_count": 7,
   "id": "2574d8f0",
   "metadata": {
    "hidden": true
   },
   "outputs": [
    {
     "data": {
      "text/plain": [
       "(38802, 21)"
      ]
     },
     "execution_count": 7,
     "metadata": {},
     "output_type": "execute_result"
    }
   ],
   "source": [
    "df.shape"
   ]
  },
  {
   "cell_type": "markdown",
   "id": "69403404",
   "metadata": {
    "heading_collapsed": true
   },
   "source": [
    "### Expression syntax"
   ]
  },
  {
   "cell_type": "code",
   "execution_count": 8,
   "id": "7c90658a",
   "metadata": {
    "hidden": true
   },
   "outputs": [
    {
     "data": {
      "text/plain": [
       "['productcategory',\n",
       " 'productsubcategory',\n",
       " 'saleterritory',\n",
       " 'zip',\n",
       " 'State',\n",
       " 'Customer',\n",
       " 'Employee',\n",
       " 'OrderCount',\n",
       " 'OrderDate',\n",
       " 'StandardCost',\n",
       " 'UnitPrice',\n",
       " 'ListPrice',\n",
       " 'SaleswithStandard',\n",
       " 'NetSales',\n",
       " 'OrderQuantity',\n",
       " 'Sales',\n",
       " 'Country_y',\n",
       " 'Territory',\n",
       " 'State_duplicated_0',\n",
       " 'StateCD',\n",
       " 'City_y']"
      ]
     },
     "execution_count": 8,
     "metadata": {},
     "output_type": "execute_result"
    }
   ],
   "source": [
    "df.columns"
   ]
  },
  {
   "cell_type": "code",
   "execution_count": 9,
   "id": "df5a1778",
   "metadata": {
    "hidden": true
   },
   "outputs": [
    {
     "data": {
      "text/html": [
       "<div><style>\n",
       ".dataframe > thead > tr,\n",
       ".dataframe > tbody > tr {\n",
       "  text-align: right;\n",
       "  white-space: pre-wrap;\n",
       "}\n",
       "</style>\n",
       "<small>shape: (4, 1)</small><table border=\"1\" class=\"dataframe\"><thead><tr><th>productcategory</th></tr><tr><td>str</td></tr></thead><tbody><tr><td>&quot;Bikes&quot;</td></tr><tr><td>&quot;Accessories&quot;</td></tr><tr><td>&quot;Components&quot;</td></tr><tr><td>&quot;Clothing&quot;</td></tr></tbody></table></div>"
      ],
      "text/plain": [
       "shape: (4, 1)\n",
       "┌─────────────────┐\n",
       "│ productcategory │\n",
       "│ ---             │\n",
       "│ str             │\n",
       "╞═════════════════╡\n",
       "│ Bikes           │\n",
       "│ Accessories     │\n",
       "│ Components      │\n",
       "│ Clothing        │\n",
       "└─────────────────┘"
      ]
     },
     "execution_count": 9,
     "metadata": {},
     "output_type": "execute_result"
    }
   ],
   "source": [
    "#df.select('productcategory')\n",
    "df.select('productcategory').unique()"
   ]
  },
  {
   "cell_type": "code",
   "execution_count": 10,
   "id": "4f0d64ef",
   "metadata": {
    "hidden": true
   },
   "outputs": [
    {
     "data": {
      "text/html": [
       "<div><style>\n",
       ".dataframe > thead > tr,\n",
       ".dataframe > tbody > tr {\n",
       "  text-align: right;\n",
       "  white-space: pre-wrap;\n",
       "}\n",
       "</style>\n",
       "<small>shape: (38_802, 2)</small><table border=\"1\" class=\"dataframe\"><thead><tr><th>productcategory</th><th>productsubcategory</th></tr><tr><td>str</td><td>str</td></tr></thead><tbody><tr><td>&quot;Clothing&quot;</td><td>&quot;Caps&quot;</td></tr><tr><td>&quot;Clothing&quot;</td><td>&quot;Caps&quot;</td></tr><tr><td>&quot;Components&quot;</td><td>&quot;Mountain Frames&quot;</td></tr><tr><td>&quot;Clothing&quot;</td><td>&quot;Jerseys&quot;</td></tr><tr><td>&quot;Clothing&quot;</td><td>&quot;Jerseys&quot;</td></tr><tr><td>&hellip;</td><td>&hellip;</td></tr><tr><td>&quot;Clothing&quot;</td><td>&quot;Shorts&quot;</td></tr><tr><td>&quot;Clothing&quot;</td><td>&quot;Shorts&quot;</td></tr><tr><td>&quot;Clothing&quot;</td><td>&quot;Shorts&quot;</td></tr><tr><td>&quot;Clothing&quot;</td><td>&quot;Shorts&quot;</td></tr><tr><td>&quot;Clothing&quot;</td><td>&quot;Shorts&quot;</td></tr></tbody></table></div>"
      ],
      "text/plain": [
       "shape: (38_802, 2)\n",
       "┌─────────────────┬────────────────────┐\n",
       "│ productcategory ┆ productsubcategory │\n",
       "│ ---             ┆ ---                │\n",
       "│ str             ┆ str                │\n",
       "╞═════════════════╪════════════════════╡\n",
       "│ Clothing        ┆ Caps               │\n",
       "│ Clothing        ┆ Caps               │\n",
       "│ Components      ┆ Mountain Frames    │\n",
       "│ Clothing        ┆ Jerseys            │\n",
       "│ Clothing        ┆ Jerseys            │\n",
       "│ …               ┆ …                  │\n",
       "│ Clothing        ┆ Shorts             │\n",
       "│ Clothing        ┆ Shorts             │\n",
       "│ Clothing        ┆ Shorts             │\n",
       "│ Clothing        ┆ Shorts             │\n",
       "│ Clothing        ┆ Shorts             │\n",
       "└─────────────────┴────────────────────┘"
      ]
     },
     "execution_count": 10,
     "metadata": {},
     "output_type": "execute_result"
    }
   ],
   "source": [
    "df.select('productcategory','productsubcategory')"
   ]
  },
  {
   "cell_type": "code",
   "execution_count": 11,
   "id": "f2dd308c",
   "metadata": {
    "hidden": true
   },
   "outputs": [
    {
     "data": {
      "text/html": [
       "<div><style>\n",
       ".dataframe > thead > tr,\n",
       ".dataframe > tbody > tr {\n",
       "  text-align: right;\n",
       "  white-space: pre-wrap;\n",
       "}\n",
       "</style>\n",
       "<small>shape: (38_802, 2)</small><table border=\"1\" class=\"dataframe\"><thead><tr><th>Sales</th><th>productcategory</th></tr><tr><td>f64</td><td>str</td></tr></thead><tbody><tr><td>5.3603e7</td><td>&quot;Accessories&quot;</td></tr><tr><td>5.3603e7</td><td>&quot;Accessories&quot;</td></tr><tr><td>5.3603e7</td><td>&quot;Accessories&quot;</td></tr><tr><td>5.3603e7</td><td>&quot;Accessories&quot;</td></tr><tr><td>5.3603e7</td><td>&quot;Accessories&quot;</td></tr><tr><td>&hellip;</td><td>&hellip;</td></tr><tr><td>5.3603e7</td><td>&quot;Components&quot;</td></tr><tr><td>5.3603e7</td><td>&quot;Components&quot;</td></tr><tr><td>5.3603e7</td><td>&quot;Components&quot;</td></tr><tr><td>5.3603e7</td><td>&quot;Components&quot;</td></tr><tr><td>5.3603e7</td><td>&quot;Components&quot;</td></tr></tbody></table></div>"
      ],
      "text/plain": [
       "shape: (38_802, 2)\n",
       "┌──────────┬─────────────────┐\n",
       "│ Sales    ┆ productcategory │\n",
       "│ ---      ┆ ---             │\n",
       "│ f64      ┆ str             │\n",
       "╞══════════╪═════════════════╡\n",
       "│ 5.3603e7 ┆ Accessories     │\n",
       "│ 5.3603e7 ┆ Accessories     │\n",
       "│ 5.3603e7 ┆ Accessories     │\n",
       "│ 5.3603e7 ┆ Accessories     │\n",
       "│ 5.3603e7 ┆ Accessories     │\n",
       "│ …        ┆ …               │\n",
       "│ 5.3603e7 ┆ Components      │\n",
       "│ 5.3603e7 ┆ Components      │\n",
       "│ 5.3603e7 ┆ Components      │\n",
       "│ 5.3603e7 ┆ Components      │\n",
       "│ 5.3603e7 ┆ Components      │\n",
       "└──────────┴─────────────────┘"
      ]
     },
     "execution_count": 11,
     "metadata": {},
     "output_type": "execute_result"
    }
   ],
   "source": [
    "df.select(pl.sum('Sales'),\n",
    "          pl.col(\"productcategory\").sort(),\n",
    "    )"
   ]
  },
  {
   "cell_type": "code",
   "execution_count": 12,
   "id": "c985eaec",
   "metadata": {
    "hidden": true
   },
   "outputs": [
    {
     "data": {
      "text/html": [
       "<div><style>\n",
       ".dataframe > thead > tr,\n",
       ".dataframe > tbody > tr {\n",
       "  text-align: right;\n",
       "  white-space: pre-wrap;\n",
       "}\n",
       "</style>\n",
       "<small>shape: (23_308, 21)</small><table border=\"1\" class=\"dataframe\"><thead><tr><th>productcategory</th><th>productsubcategory</th><th>saleterritory</th><th>zip</th><th>State</th><th>Customer</th><th>Employee</th><th>OrderCount</th><th>OrderDate</th><th>StandardCost</th><th>UnitPrice</th><th>ListPrice</th><th>SaleswithStandard</th><th>NetSales</th><th>OrderQuantity</th><th>Sales</th><th>Country_y</th><th>Territory</th><th>State_duplicated_0</th><th>StateCD</th><th>City_y</th></tr><tr><td>str</td><td>str</td><td>str</td><td>i64</td><td>str</td><td>str</td><td>str</td><td>i64</td><td>str</td><td>f64</td><td>f64</td><td>f64</td><td>f64</td><td>f64</td><td>i64</td><td>f64</td><td>str</td><td>str</td><td>str</td><td>str</td><td>str</td></tr></thead><tbody><tr><td>&quot;Clothing&quot;</td><td>&quot;Caps&quot;</td><td>&quot;Northwest&quot;</td><td>82601</td><td>&quot;Wyoming&quot;</td><td>&quot;François Ferrier&quot;</td><td>&quot;David Campbell&quot;</td><td>1</td><td>&quot;5/31/2011 0:00&quot;</td><td>6.9223</td><td>5.1865</td><td>8.6442</td><td>20.7669</td><td>-5.2074</td><td>3</td><td>15.5595</td><td>&quot;US&quot;</td><td>&quot;Casper&quot;</td><td>&quot;Wyoming&quot;</td><td>&quot;WY&quot;</td><td>&quot;Natrona&quot;</td></tr><tr><td>&quot;Clothing&quot;</td><td>&quot;Caps&quot;</td><td>&quot;Northwest&quot;</td><td>98104</td><td>&quot;Washington&quot;</td><td>&quot;Richard Bready&quot;</td><td>&quot;David Campbell&quot;</td><td>1</td><td>&quot;5/31/2011 0:00&quot;</td><td>6.9223</td><td>5.1865</td><td>8.6442</td><td>13.8446</td><td>-3.4716</td><td>2</td><td>10.373</td><td>&quot;US&quot;</td><td>&quot;Seattle&quot;</td><td>&quot;Washington&quot;</td><td>&quot;WA&quot;</td><td>&quot;King&quot;</td></tr><tr><td>&quot;Clothing&quot;</td><td>&quot;Jerseys&quot;</td><td>&quot;Northwest&quot;</td><td>82601</td><td>&quot;Wyoming&quot;</td><td>&quot;François Ferrier&quot;</td><td>&quot;David Campbell&quot;</td><td>1</td><td>&quot;5/31/2011 0:00&quot;</td><td>38.4923</td><td>28.8404</td><td>48.0673</td><td>76.9846</td><td>-19.3038</td><td>2</td><td>57.6808</td><td>&quot;US&quot;</td><td>&quot;Casper&quot;</td><td>&quot;Wyoming&quot;</td><td>&quot;WY&quot;</td><td>&quot;Natrona&quot;</td></tr><tr><td>&quot;Clothing&quot;</td><td>&quot;Jerseys&quot;</td><td>&quot;Northwest&quot;</td><td>98104</td><td>&quot;Washington&quot;</td><td>&quot;Richard Bready&quot;</td><td>&quot;David Campbell&quot;</td><td>1</td><td>&quot;5/31/2011 0:00&quot;</td><td>38.4923</td><td>28.8404</td><td>48.0673</td><td>76.9846</td><td>-19.3038</td><td>2</td><td>57.6808</td><td>&quot;US&quot;</td><td>&quot;Seattle&quot;</td><td>&quot;Washington&quot;</td><td>&quot;WA&quot;</td><td>&quot;King&quot;</td></tr><tr><td>&quot;Clothing&quot;</td><td>&quot;Jerseys&quot;</td><td>&quot;Northwest&quot;</td><td>98366</td><td>&quot;Washington&quot;</td><td>&quot;Peggy Justice&quot;</td><td>&quot;David Campbell&quot;</td><td>1</td><td>&quot;5/31/2011 0:00&quot;</td><td>38.4923</td><td>28.8404</td><td>48.0673</td><td>76.9846</td><td>-19.3038</td><td>2</td><td>57.6808</td><td>&quot;US&quot;</td><td>&quot;Port Orchard&quot;</td><td>&quot;Washington&quot;</td><td>&quot;WA&quot;</td><td>&quot;Kitsap&quot;</td></tr><tr><td>&hellip;</td><td>&hellip;</td><td>&hellip;</td><td>&hellip;</td><td>&hellip;</td><td>&hellip;</td><td>&hellip;</td><td>&hellip;</td><td>&hellip;</td><td>&hellip;</td><td>&hellip;</td><td>&hellip;</td><td>&hellip;</td><td>&hellip;</td><td>&hellip;</td><td>&hellip;</td><td>&hellip;</td><td>&hellip;</td><td>&hellip;</td><td>&hellip;</td><td>&hellip;</td></tr><tr><td>&quot;Bikes&quot;</td><td>&quot;Touring Bikes&quot;</td><td>&quot;Southeast&quot;</td><td>34205</td><td>&quot;Florida&quot;</td><td>&quot;Chris Bidelman&quot;</td><td>&quot;Tsvi Reiter&quot;</td><td>1</td><td>&quot;5/1/2014 0:00&quot;</td><td>461.4448</td><td>445.41</td><td>742.35</td><td>922.8896</td><td>-32.0696</td><td>2</td><td>890.82</td><td>&quot;US&quot;</td><td>&quot;Bradenton&quot;</td><td>&quot;Florida&quot;</td><td>&quot;FL&quot;</td><td>&quot;Manatee&quot;</td></tr><tr><td>&quot;Clothing&quot;</td><td>&quot;Shorts&quot;</td><td>&quot;Southeast&quot;</td><td>37801</td><td>&quot;Tennessee&quot;</td><td>&quot;Elizabeth Catalano&quot;</td><td>&quot;Tsvi Reiter&quot;</td><td>1</td><td>&quot;5/1/2014 0:00&quot;</td><td>26.1763</td><td>41.994</td><td>69.99</td><td>78.5289</td><td>47.4531</td><td>3</td><td>125.982</td><td>&quot;US&quot;</td><td>&quot;Maryville&quot;</td><td>&quot;Tennessee&quot;</td><td>&quot;TN&quot;</td><td>&quot;Blount&quot;</td></tr><tr><td>&quot;Clothing&quot;</td><td>&quot;Shorts&quot;</td><td>&quot;Southeast&quot;</td><td>30030</td><td>&quot;Georgia&quot;</td><td>&quot;Pamela Cox&quot;</td><td>&quot;Tsvi Reiter&quot;</td><td>1</td><td>&quot;5/1/2014 0:00&quot;</td><td>26.1763</td><td>41.994</td><td>69.99</td><td>78.5289</td><td>47.4531</td><td>3</td><td>125.982</td><td>&quot;US&quot;</td><td>&quot;Decatur&quot;</td><td>&quot;Georgia&quot;</td><td>&quot;GA&quot;</td><td>&quot;DeKalb&quot;</td></tr><tr><td>&quot;Clothing&quot;</td><td>&quot;Shorts&quot;</td><td>&quot;Southeast&quot;</td><td>30030</td><td>&quot;Georgia&quot;</td><td>&quot;Pamela Cox&quot;</td><td>&quot;Tsvi Reiter&quot;</td><td>1</td><td>&quot;5/1/2014 0:00&quot;</td><td>26.1763</td><td>41.994</td><td>69.99</td><td>130.8815</td><td>79.0885</td><td>5</td><td>209.97</td><td>&quot;US&quot;</td><td>&quot;Decatur&quot;</td><td>&quot;Georgia&quot;</td><td>&quot;GA&quot;</td><td>&quot;DeKalb&quot;</td></tr><tr><td>&quot;Clothing&quot;</td><td>&quot;Shorts&quot;</td><td>&quot;Southeast&quot;</td><td>33127</td><td>&quot;Florida&quot;</td><td>&quot;Stephanie Conroy&quot;</td><td>&quot;Tsvi Reiter&quot;</td><td>1</td><td>&quot;5/1/2014 0:00&quot;</td><td>26.1763</td><td>41.994</td><td>69.99</td><td>78.5289</td><td>47.4531</td><td>3</td><td>125.982</td><td>&quot;US&quot;</td><td>&quot;Miami&quot;</td><td>&quot;Florida&quot;</td><td>&quot;FL&quot;</td><td>&quot;Miami-Dade&quot;</td></tr></tbody></table></div>"
      ],
      "text/plain": [
       "shape: (23_308, 21)\n",
       "┌────────────┬────────────┬────────────┬───────┬───┬────────────┬────────────┬─────────┬───────────┐\n",
       "│ productcat ┆ productsub ┆ saleterrit ┆ zip   ┆ … ┆ Territory  ┆ State_dupl ┆ StateCD ┆ City_y    │\n",
       "│ egory      ┆ category   ┆ ory        ┆ ---   ┆   ┆ ---        ┆ icated_0   ┆ ---     ┆ ---       │\n",
       "│ ---        ┆ ---        ┆ ---        ┆ i64   ┆   ┆ str        ┆ ---        ┆ str     ┆ str       │\n",
       "│ str        ┆ str        ┆ str        ┆       ┆   ┆            ┆ str        ┆         ┆           │\n",
       "╞════════════╪════════════╪════════════╪═══════╪═══╪════════════╪════════════╪═════════╪═══════════╡\n",
       "│ Clothing   ┆ Caps       ┆ Northwest  ┆ 82601 ┆ … ┆ Casper     ┆ Wyoming    ┆ WY      ┆ Natrona   │\n",
       "│ Clothing   ┆ Caps       ┆ Northwest  ┆ 98104 ┆ … ┆ Seattle    ┆ Washington ┆ WA      ┆ King      │\n",
       "│ Clothing   ┆ Jerseys    ┆ Northwest  ┆ 82601 ┆ … ┆ Casper     ┆ Wyoming    ┆ WY      ┆ Natrona   │\n",
       "│ Clothing   ┆ Jerseys    ┆ Northwest  ┆ 98104 ┆ … ┆ Seattle    ┆ Washington ┆ WA      ┆ King      │\n",
       "│ Clothing   ┆ Jerseys    ┆ Northwest  ┆ 98366 ┆ … ┆ Port       ┆ Washington ┆ WA      ┆ Kitsap    │\n",
       "│            ┆            ┆            ┆       ┆   ┆ Orchard    ┆            ┆         ┆           │\n",
       "│ …          ┆ …          ┆ …          ┆ …     ┆ … ┆ …          ┆ …          ┆ …       ┆ …         │\n",
       "│ Bikes      ┆ Touring    ┆ Southeast  ┆ 34205 ┆ … ┆ Bradenton  ┆ Florida    ┆ FL      ┆ Manatee   │\n",
       "│            ┆ Bikes      ┆            ┆       ┆   ┆            ┆            ┆         ┆           │\n",
       "│ Clothing   ┆ Shorts     ┆ Southeast  ┆ 37801 ┆ … ┆ Maryville  ┆ Tennessee  ┆ TN      ┆ Blount    │\n",
       "│ Clothing   ┆ Shorts     ┆ Southeast  ┆ 30030 ┆ … ┆ Decatur    ┆ Georgia    ┆ GA      ┆ DeKalb    │\n",
       "│ Clothing   ┆ Shorts     ┆ Southeast  ┆ 30030 ┆ … ┆ Decatur    ┆ Georgia    ┆ GA      ┆ DeKalb    │\n",
       "│ Clothing   ┆ Shorts     ┆ Southeast  ┆ 33127 ┆ … ┆ Miami      ┆ Florida    ┆ FL      ┆ Miami-Dad │\n",
       "│            ┆            ┆            ┆       ┆   ┆            ┆            ┆         ┆ e         │\n",
       "└────────────┴────────────┴────────────┴───────┴───┴────────────┴────────────┴─────────┴───────────┘"
      ]
     },
     "execution_count": 12,
     "metadata": {},
     "output_type": "execute_result"
    }
   ],
   "source": [
    "#df.filter(pl.col(\"Sales\")>=200)\n",
    "df.filter(pl.col(\"OrderQuantity\").is_between(2,5))"
   ]
  },
  {
   "cell_type": "code",
   "execution_count": 13,
   "id": "9285033a",
   "metadata": {
    "hidden": true
   },
   "outputs": [
    {
     "data": {
      "text/html": [
       "<div><style>\n",
       ".dataframe > thead > tr,\n",
       ".dataframe > tbody > tr {\n",
       "  text-align: right;\n",
       "  white-space: pre-wrap;\n",
       "}\n",
       "</style>\n",
       "<small>shape: (4, 2)</small><table border=\"1\" class=\"dataframe\"><thead><tr><th>by</th><th>total_sales</th></tr><tr><td>str</td><td>f64</td></tr></thead><tbody><tr><td>&quot;Accessories&quot;</td><td>303515.225606</td></tr><tr><td>&quot;Clothing&quot;</td><td>1.0374e6</td></tr><tr><td>&quot;Bikes&quot;</td><td>4.4828e7</td></tr><tr><td>&quot;Components&quot;</td><td>7.4339e6</td></tr></tbody></table></div>"
      ],
      "text/plain": [
       "shape: (4, 2)\n",
       "┌─────────────┬───────────────┐\n",
       "│ by          ┆ total_sales   │\n",
       "│ ---         ┆ ---           │\n",
       "│ str         ┆ f64           │\n",
       "╞═════════════╪═══════════════╡\n",
       "│ Accessories ┆ 303515.225606 │\n",
       "│ Clothing    ┆ 1.0374e6      │\n",
       "│ Bikes       ┆ 4.4828e7      │\n",
       "│ Components  ┆ 7.4339e6      │\n",
       "└─────────────┴───────────────┘"
      ]
     },
     "execution_count": 13,
     "metadata": {},
     "output_type": "execute_result"
    }
   ],
   "source": [
    "df.group_by(by='productcategory').agg(pl.col('Sales').sum().alias('total_sales'))"
   ]
  },
  {
   "cell_type": "markdown",
   "id": "9cd3b449",
   "metadata": {
    "code_folding": []
   },
   "source": [
    "### Query optimization in lazy eval"
   ]
  },
  {
   "cell_type": "code",
   "execution_count": 16,
   "id": "ff7ef18a",
   "metadata": {},
   "outputs": [],
   "source": [
    "df_query = ( pl.scan_csv('data.csv')\n",
    "           .filter(pl.col(\"Country_y\") == \"US\")\n",
    "           .select([\"productcategory\", \"productsubcategory\", \"saleterritory\", \"Sales\"])\n",
    "           )"
   ]
  },
  {
   "cell_type": "code",
   "execution_count": 17,
   "id": "42d4ddb8",
   "metadata": {},
   "outputs": [
    {
     "ename": "ImportError",
     "evalue": "The graphviz `dot` binary should be on your PATH.(If not installed you can download here: https://graphviz.org/download/)",
     "output_type": "error",
     "traceback": [
      "\u001b[0;31m---------------------------------------------------------------------------\u001b[0m",
      "\u001b[0;31mImportError\u001b[0m                               Traceback (most recent call last)",
      "Input \u001b[0;32mIn [17]\u001b[0m, in \u001b[0;36m<cell line: 1>\u001b[0;34m()\u001b[0m\n\u001b[0;32m----> 1\u001b[0m \u001b[43mdf_query\u001b[49m\u001b[38;5;241;43m.\u001b[39;49m\u001b[43mshow_graph\u001b[49m\u001b[43m(\u001b[49m\u001b[43moptimized\u001b[49m\u001b[38;5;241;43m=\u001b[39;49m\u001b[38;5;28;43;01mFalse\u001b[39;49;00m\u001b[43m)\u001b[49m\n",
      "File \u001b[0;32m/opt/homebrew/lib/python3.10/site-packages/polars/lazyframe/frame.py:1215\u001b[0m, in \u001b[0;36mLazyFrame.show_graph\u001b[0;34m(self, optimized, show, output_path, raw_output, figsize, type_coercion, predicate_pushdown, projection_pushdown, simplify_expression, slice_pushdown, comm_subplan_elim, comm_subexpr_elim, cluster_with_columns, streaming)\u001b[0m\n\u001b[1;32m   1210\u001b[0m \u001b[38;5;28;01mexcept\u001b[39;00m (\u001b[38;5;167;01mImportError\u001b[39;00m, \u001b[38;5;167;01mFileNotFoundError\u001b[39;00m):\n\u001b[1;32m   1211\u001b[0m     msg \u001b[38;5;241m=\u001b[39m (\n\u001b[1;32m   1212\u001b[0m         \u001b[38;5;124m\"\u001b[39m\u001b[38;5;124mThe graphviz `dot` binary should be on your PATH.\u001b[39m\u001b[38;5;124m\"\u001b[39m\n\u001b[1;32m   1213\u001b[0m         \u001b[38;5;124m\"\u001b[39m\u001b[38;5;124m(If not installed you can download here: https://graphviz.org/download/)\u001b[39m\u001b[38;5;124m\"\u001b[39m\n\u001b[1;32m   1214\u001b[0m     )\n\u001b[0;32m-> 1215\u001b[0m     \u001b[38;5;28;01mraise\u001b[39;00m \u001b[38;5;167;01mImportError\u001b[39;00m(msg) \u001b[38;5;28;01mfrom\u001b[39;00m \u001b[38;5;28;01mNone\u001b[39;00m\n\u001b[1;32m   1217\u001b[0m \u001b[38;5;28;01mif\u001b[39;00m output_path:\n\u001b[1;32m   1218\u001b[0m     Path(output_path)\u001b[38;5;241m.\u001b[39mwrite_bytes(graph)\n",
      "\u001b[0;31mImportError\u001b[0m: The graphviz `dot` binary should be on your PATH.(If not installed you can download here: https://graphviz.org/download/)"
     ]
    }
   ],
   "source": [
    "df_query.show_graph(optimized=False)"
   ]
  },
  {
   "cell_type": "code",
   "execution_count": 14,
   "id": "e473124e",
   "metadata": {},
   "outputs": [
    {
     "data": {
      "image/svg+xml": [
       "<svg xmlns=\"http://www.w3.org/2000/svg\" xmlns:xlink=\"http://www.w3.org/1999/xlink\" width=\"445pt\" height=\"133pt\" viewBox=\"0.00 0.00 445.00 133.00\">\n",
       "<g id=\"graph0\" class=\"graph\" transform=\"scale(1 1) rotate(0) translate(4 129)\">\n",
       "<title>polars_query</title>\n",
       "<polygon fill=\"white\" stroke=\"transparent\" points=\"-4,4 -4,-129 441,-129 441,4 -4,4\"/>\n",
       "<!-- FAST_PROJECT: [productcategory, productsubcategory, saleterritory, Sales] [(0, 0)] -->\n",
       "<g id=\"node1\" class=\"node\">\n",
       "<title>FAST_PROJECT: [productcategory, productsubcategory, saleterritory, Sales] [(0, 0)]</title>\n",
       "<polygon fill=\"none\" stroke=\"black\" points=\"437,-125 0,-125 0,-89 437,-89 437,-125\"/>\n",
       "<text text-anchor=\"middle\" x=\"218.5\" y=\"-103.3\" font-family=\"Times New Roman,serif\" font-size=\"14.00\">FAST_PROJECT: [productcategory, productsubcategory, saleterritory, Sales]</text>\n",
       "</g>\n",
       "<!-- Csv SCAN data/data.csv;\n",
       "π 5/21;\n",
       "σ (col(&quot;Country_y&quot;)) == (St... [(0, 1)] -->\n",
       "<g id=\"node2\" class=\"node\">\n",
       "<title>Csv SCAN data/data.csv;\n",
       "π 5/21;\n",
       "σ (col(&quot;Country_y&quot;)) == (St... [(0, 1)]</title>\n",
       "<polygon fill=\"none\" stroke=\"black\" points=\"310,-53 127,-53 127,0 310,0 310,-53\"/>\n",
       "<text text-anchor=\"middle\" x=\"218.5\" y=\"-37.8\" font-family=\"Times New Roman,serif\" font-size=\"14.00\">Csv SCAN data/data.csv;</text>\n",
       "<text text-anchor=\"middle\" x=\"218.5\" y=\"-22.8\" font-family=\"Times New Roman,serif\" font-size=\"14.00\">π 5/21;</text>\n",
       "<text text-anchor=\"middle\" x=\"218.5\" y=\"-7.8\" font-family=\"Times New Roman,serif\" font-size=\"14.00\">σ (col(&quot;Country_y&quot;)) == (St...</text>\n",
       "</g>\n",
       "<!-- FAST_PROJECT: [productcategory, productsubcategory, saleterritory, Sales] [(0, 0)]&#45;&#45;Csv SCAN data/data.csv;\n",
       "π 5/21;\n",
       "σ (col(&quot;Country_y&quot;)) == (St... [(0, 1)] -->\n",
       "<g id=\"edge1\" class=\"edge\">\n",
       "<title>FAST_PROJECT: [productcategory, productsubcategory, saleterritory, Sales] [(0, 0)]--Csv SCAN data/data.csv;\n",
       "π 5/21;\n",
       "σ (col(&quot;Country_y&quot;)) == (St... [(0, 1)]</title>\n",
       "<path fill=\"none\" stroke=\"black\" d=\"M218.5,-88.97C218.5,-78.51 218.5,-64.9 218.5,-53.16\"/>\n",
       "</g>\n",
       "</g>\n",
       "</svg>"
      ],
      "text/plain": [
       "<IPython.core.display.SVG object>"
      ]
     },
     "metadata": {},
     "output_type": "display_data"
    }
   ],
   "source": [
    "df_query.show_graph(optimized=True)"
   ]
  },
  {
   "cell_type": "code",
   "execution_count": 15,
   "id": "12a3580c",
   "metadata": {},
   "outputs": [],
   "source": [
    "df2 = df_query.collect()"
   ]
  },
  {
   "cell_type": "code",
   "execution_count": 16,
   "id": "c70f71ff",
   "metadata": {},
   "outputs": [
    {
     "data": {
      "text/html": [
       "<div><style>\n",
       ".dataframe > thead > tr,\n",
       ".dataframe > tbody > tr {\n",
       "  text-align: right;\n",
       "  white-space: pre-wrap;\n",
       "}\n",
       "</style>\n",
       "<small>shape: (5, 4)</small><table border=\"1\" class=\"dataframe\"><thead><tr><th>productcategory</th><th>productsubcategory</th><th>saleterritory</th><th>Sales</th></tr><tr><td>str</td><td>str</td><td>str</td><td>f64</td></tr></thead><tbody><tr><td>&quot;Clothing&quot;</td><td>&quot;Caps&quot;</td><td>&quot;Northwest&quot;</td><td>15.5595</td></tr><tr><td>&quot;Clothing&quot;</td><td>&quot;Caps&quot;</td><td>&quot;Northwest&quot;</td><td>10.373</td></tr><tr><td>&quot;Components&quot;</td><td>&quot;Mountain Frame…</td><td>&quot;Northwest&quot;</td><td>714.7043</td></tr><tr><td>&quot;Clothing&quot;</td><td>&quot;Jerseys&quot;</td><td>&quot;Northwest&quot;</td><td>57.6808</td></tr><tr><td>&quot;Clothing&quot;</td><td>&quot;Jerseys&quot;</td><td>&quot;Northwest&quot;</td><td>57.6808</td></tr></tbody></table></div>"
      ],
      "text/plain": [
       "shape: (5, 4)\n",
       "┌─────────────────┬────────────────────┬───────────────┬──────────┐\n",
       "│ productcategory ┆ productsubcategory ┆ saleterritory ┆ Sales    │\n",
       "│ ---             ┆ ---                ┆ ---           ┆ ---      │\n",
       "│ str             ┆ str                ┆ str           ┆ f64      │\n",
       "╞═════════════════╪════════════════════╪═══════════════╪══════════╡\n",
       "│ Clothing        ┆ Caps               ┆ Northwest     ┆ 15.5595  │\n",
       "│ Clothing        ┆ Caps               ┆ Northwest     ┆ 10.373   │\n",
       "│ Components      ┆ Mountain Frames    ┆ Northwest     ┆ 714.7043 │\n",
       "│ Clothing        ┆ Jerseys            ┆ Northwest     ┆ 57.6808  │\n",
       "│ Clothing        ┆ Jerseys            ┆ Northwest     ┆ 57.6808  │\n",
       "└─────────────────┴────────────────────┴───────────────┴──────────┘"
      ]
     },
     "execution_count": 16,
     "metadata": {},
     "output_type": "execute_result"
    }
   ],
   "source": [
    "df2.head()"
   ]
  },
  {
   "cell_type": "code",
   "execution_count": null,
   "id": "18e3f9e5",
   "metadata": {},
   "outputs": [],
   "source": []
  }
 ],
 "metadata": {
  "kernelspec": {
   "display_name": "Python 3 (ipykernel)",
   "language": "python",
   "name": "python3"
  },
  "language_info": {
   "codemirror_mode": {
    "name": "ipython",
    "version": 3
   },
   "file_extension": ".py",
   "mimetype": "text/x-python",
   "name": "python",
   "nbconvert_exporter": "python",
   "pygments_lexer": "ipython3",
   "version": "3.10.15"
  }
 },
 "nbformat": 4,
 "nbformat_minor": 5
}
