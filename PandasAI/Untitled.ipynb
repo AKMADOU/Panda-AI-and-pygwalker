{
 "cells": [
  {
   "cell_type": "code",
   "execution_count": 2,
   "id": "c5020f2e",
   "metadata": {},
   "outputs": [],
   "source": [
    "# !pip install datahorse"
   ]
  },
  {
   "cell_type": "code",
   "execution_count": 21,
   "id": "ae0d404a",
   "metadata": {},
   "outputs": [],
   "source": [
    "import datahorse\n",
    "# import pandas as pd"
   ]
  },
  {
   "cell_type": "code",
   "execution_count": 22,
   "id": "e48c596f",
   "metadata": {},
   "outputs": [
    {
     "data": {
      "text/html": [
       "<div>\n",
       "<style scoped>\n",
       "    .dataframe tbody tr th:only-of-type {\n",
       "        vertical-align: middle;\n",
       "    }\n",
       "\n",
       "    .dataframe tbody tr th {\n",
       "        vertical-align: top;\n",
       "    }\n",
       "\n",
       "    .dataframe thead th {\n",
       "        text-align: right;\n",
       "    }\n",
       "</style>\n",
       "<table border=\"1\" class=\"dataframe\">\n",
       "  <thead>\n",
       "    <tr style=\"text-align: right;\">\n",
       "      <th></th>\n",
       "      <th>productcategory</th>\n",
       "      <th>productsubcategory</th>\n",
       "      <th>saleterritory</th>\n",
       "      <th>State</th>\n",
       "      <th>Customer</th>\n",
       "      <th>OrderCount</th>\n",
       "      <th>OrderDate</th>\n",
       "      <th>Sales</th>\n",
       "      <th>Country</th>\n",
       "      <th>Territory</th>\n",
       "    </tr>\n",
       "  </thead>\n",
       "  <tbody>\n",
       "    <tr>\n",
       "      <th>0</th>\n",
       "      <td>Clothing</td>\n",
       "      <td>Caps</td>\n",
       "      <td>Northwest</td>\n",
       "      <td>Wyoming</td>\n",
       "      <td>François Ferrier</td>\n",
       "      <td>1</td>\n",
       "      <td>5/31/2011 0:00</td>\n",
       "      <td>15.5595</td>\n",
       "      <td>US</td>\n",
       "      <td>Casper</td>\n",
       "    </tr>\n",
       "    <tr>\n",
       "      <th>1</th>\n",
       "      <td>Clothing</td>\n",
       "      <td>Caps</td>\n",
       "      <td>Northwest</td>\n",
       "      <td>Washington</td>\n",
       "      <td>Richard Bready</td>\n",
       "      <td>1</td>\n",
       "      <td>5/31/2011 0:00</td>\n",
       "      <td>10.3730</td>\n",
       "      <td>US</td>\n",
       "      <td>Seattle</td>\n",
       "    </tr>\n",
       "    <tr>\n",
       "      <th>2</th>\n",
       "      <td>Components</td>\n",
       "      <td>Mountain Frames</td>\n",
       "      <td>Northwest</td>\n",
       "      <td>Washington</td>\n",
       "      <td>Carolyn Farino</td>\n",
       "      <td>1</td>\n",
       "      <td>5/31/2011 0:00</td>\n",
       "      <td>714.7043</td>\n",
       "      <td>US</td>\n",
       "      <td>Puyallup</td>\n",
       "    </tr>\n",
       "    <tr>\n",
       "      <th>3</th>\n",
       "      <td>Clothing</td>\n",
       "      <td>Jerseys</td>\n",
       "      <td>Northwest</td>\n",
       "      <td>Wyoming</td>\n",
       "      <td>François Ferrier</td>\n",
       "      <td>1</td>\n",
       "      <td>5/31/2011 0:00</td>\n",
       "      <td>57.6808</td>\n",
       "      <td>US</td>\n",
       "      <td>Casper</td>\n",
       "    </tr>\n",
       "    <tr>\n",
       "      <th>4</th>\n",
       "      <td>Clothing</td>\n",
       "      <td>Jerseys</td>\n",
       "      <td>Northwest</td>\n",
       "      <td>Washington</td>\n",
       "      <td>Richard Bready</td>\n",
       "      <td>1</td>\n",
       "      <td>5/31/2011 0:00</td>\n",
       "      <td>57.6808</td>\n",
       "      <td>US</td>\n",
       "      <td>Seattle</td>\n",
       "    </tr>\n",
       "  </tbody>\n",
       "</table>\n",
       "</div>"
      ],
      "text/plain": [
       "  productcategory productsubcategory saleterritory       State  \\\n",
       "0        Clothing               Caps     Northwest     Wyoming   \n",
       "1        Clothing               Caps     Northwest  Washington   \n",
       "2      Components    Mountain Frames     Northwest  Washington   \n",
       "3        Clothing            Jerseys     Northwest     Wyoming   \n",
       "4        Clothing            Jerseys     Northwest  Washington   \n",
       "\n",
       "           Customer  OrderCount       OrderDate     Sales Country Territory  \n",
       "0  François Ferrier           1  5/31/2011 0:00   15.5595      US    Casper  \n",
       "1    Richard Bready           1  5/31/2011 0:00   10.3730      US   Seattle  \n",
       "2    Carolyn Farino           1  5/31/2011 0:00  714.7043      US  Puyallup  \n",
       "3  François Ferrier           1  5/31/2011 0:00   57.6808      US    Casper  \n",
       "4    Richard Bready           1  5/31/2011 0:00   57.6808      US   Seattle  "
      ]
     },
     "execution_count": 22,
     "metadata": {},
     "output_type": "execute_result"
    }
   ],
   "source": [
    "df = datahorse.read(\"sales.csv\")\n",
    "df.head()"
   ]
  },
  {
   "cell_type": "code",
   "execution_count": 23,
   "id": "1c9fdb66",
   "metadata": {},
   "outputs": [
    {
     "data": {
      "text/html": [
       "\n",
       "<details>\n",
       "  <summary>Review Code</summary>\n",
       "  <pre>\n",
       "  ```\n",
       "import pandas as pd\n",
       "\n",
       "def process(df):\n",
       "    total_sales = df['Sales'].sum()\n",
       "    return total_sales\n",
       "  </pre>\n",
       "</details>\n",
       "\n",
       "\n",
       "<style>\n",
       "details {\n",
       "  border: 1px solid #aaa;\n",
       "  border-radius: 4px;\n",
       "  padding: 0.5em 0.5em 0;\n",
       "  margin-top: 3px;\n",
       "}\n",
       "\n",
       "summary {\n",
       "  font-weight: bold;\n",
       "  margin: -0.5em -0.5em 0;\n",
       "  padding: 0.5em;\n",
       "}\n",
       "\n",
       "details[open] {\n",
       "  padding: 0.5em;\n",
       "}\n",
       "\n",
       "details[open] summary {\n",
       "  border-bottom: 1px solid #aaa;\n",
       "  margin-bottom: 0.5em;\n",
       "}\n",
       "</style>\n",
       "\n"
      ],
      "text/plain": [
       "<IPython.core.display.HTML object>"
      ]
     },
     "metadata": {},
     "output_type": "display_data"
    },
    {
     "data": {
      "text/html": [
       "\n",
       "<details>\n",
       "  <summary>Eval Failed</summary>\n",
       "  <pre>\n",
       "  invalid syntax (<string>, line 1)\n",
       "  </pre>\n",
       "</details>\n",
       "\n",
       "\n",
       "<style>\n",
       "details {\n",
       "  border: 1px solid #aaa;\n",
       "  border-radius: 4px;\n",
       "  padding: 0.5em 0.5em 0;\n",
       "  margin-top: 3px;\n",
       "}\n",
       "\n",
       "summary {\n",
       "  font-weight: bold;\n",
       "  margin: -0.5em -0.5em 0;\n",
       "  padding: 0.5em;\n",
       "}\n",
       "\n",
       "details[open] {\n",
       "  padding: 0.5em;\n",
       "}\n",
       "\n",
       "details[open] summary {\n",
       "  border-bottom: 1px solid #aaa;\n",
       "  margin-bottom: 0.5em;\n",
       "}\n",
       "</style>\n",
       "\n"
      ],
      "text/plain": [
       "<IPython.core.display.HTML object>"
      ]
     },
     "metadata": {},
     "output_type": "display_data"
    }
   ],
   "source": [
    "df.chat(\"Quel est le total des ventes ?\")"
   ]
  },
  {
   "cell_type": "code",
   "execution_count": 25,
   "id": "ea8eaa80",
   "metadata": {},
   "outputs": [
    {
     "data": {
      "text/html": [
       "\n",
       "<details>\n",
       "  <summary>Review Code</summary>\n",
       "  <pre>\n",
       "  import pandas as pd\n",
       "\n",
       "def process(df):\n",
       "    return df.groupby('productcategory')['Sales'].sum().reset_index().sort_values('Sales', ascending=False).head(1)\n",
       "  </pre>\n",
       "</details>\n",
       "\n",
       "\n",
       "<style>\n",
       "details {\n",
       "  border: 1px solid #aaa;\n",
       "  border-radius: 4px;\n",
       "  padding: 0.5em 0.5em 0;\n",
       "  margin-top: 3px;\n",
       "}\n",
       "\n",
       "summary {\n",
       "  font-weight: bold;\n",
       "  margin: -0.5em -0.5em 0;\n",
       "  padding: 0.5em;\n",
       "}\n",
       "\n",
       "details[open] {\n",
       "  padding: 0.5em;\n",
       "}\n",
       "\n",
       "details[open] summary {\n",
       "  border-bottom: 1px solid #aaa;\n",
       "  margin-bottom: 0.5em;\n",
       "}\n",
       "</style>\n",
       "\n"
      ],
      "text/plain": [
       "<IPython.core.display.HTML object>"
      ]
     },
     "metadata": {},
     "output_type": "display_data"
    },
    {
     "data": {
      "text/html": [
       "<div>\n",
       "<style scoped>\n",
       "    .dataframe tbody tr th:only-of-type {\n",
       "        vertical-align: middle;\n",
       "    }\n",
       "\n",
       "    .dataframe tbody tr th {\n",
       "        vertical-align: top;\n",
       "    }\n",
       "\n",
       "    .dataframe thead th {\n",
       "        text-align: right;\n",
       "    }\n",
       "</style>\n",
       "<table border=\"1\" class=\"dataframe\">\n",
       "  <thead>\n",
       "    <tr style=\"text-align: right;\">\n",
       "      <th></th>\n",
       "      <th>productcategory</th>\n",
       "      <th>Sales</th>\n",
       "    </tr>\n",
       "  </thead>\n",
       "  <tbody>\n",
       "    <tr>\n",
       "      <th>1</th>\n",
       "      <td>Bikes</td>\n",
       "      <td>4.482824e+07</td>\n",
       "    </tr>\n",
       "  </tbody>\n",
       "</table>\n",
       "</div>"
      ],
      "text/plain": [
       "  productcategory         Sales\n",
       "1           Bikes  4.482824e+07"
      ]
     },
     "execution_count": 25,
     "metadata": {},
     "output_type": "execute_result"
    }
   ],
   "source": [
    "df.chat('Quelle catégorie de produit qui a enregistré de plus de vente ?')"
   ]
  },
  {
   "cell_type": "code",
   "execution_count": 26,
   "id": "db5c4e40",
   "metadata": {},
   "outputs": [],
   "source": [
    " import pandas as pd\n",
    "\n",
    "def process(df):\n",
    "    return df.groupby('productcategory')['Sales'].sum().reset_index().sort_values('Sales', ascending=False).head()"
   ]
  },
  {
   "cell_type": "code",
   "execution_count": 12,
   "id": "0746c94f",
   "metadata": {},
   "outputs": [
    {
     "data": {
      "text/html": [
       "\n",
       "<details>\n",
       "  <summary>Review Code</summary>\n",
       "  <pre>\n",
       "  import pandas as pd\n",
       "import matplotlib.pyplot as plt\n",
       "\n",
       "def process(df):\n",
       "    # Get the list of product categories\n",
       "    categories = df['productcategory'].unique()\n",
       "\n",
       "    # Initialize an empty dictionary to store the sales by category\n",
       "    sales_by_category = {}\n",
       "\n",
       "    # Iterate over each category\n",
       "    for category in categories:\n",
       "        # Filter the data to get the rows where the productcategory matches\n",
       "        category_df = df[df['productcategory'] == category]\n",
       "        \n",
       "        # Calculate the total sales for this category\n",
       "        total_sales = category_df['Sales'].sum()\n",
       "\n",
       "        # Add the total sales to the dictionary\n",
       "        sales_by_category[category] = total_sales\n",
       "\n",
       "    # Create a new dataframe from the sales_by_category dictionary\n",
       "    sales_by_category_df = pd.DataFrame(list(sales_by_category.items()), columns=['productcategory', 'total_sales'])\n",
       "\n",
       "    # Plot a bar chart of the sales by category\n",
       "    plt.figure(figsize=(10,6))\n",
       "    plt.bar(sales_by_category_df['productcategory'], sales_by_category_df['total_sales'])\n",
       "    plt.xlabel('Product Category')\n",
       "    plt.ylabel('Total Sales')\n",
       "    plt.title('Sales by Product Category')\n",
       "    plt.show()\n",
       "  </pre>\n",
       "</details>\n",
       "\n",
       "\n",
       "<style>\n",
       "details {\n",
       "  border: 1px solid #aaa;\n",
       "  border-radius: 4px;\n",
       "  padding: 0.5em 0.5em 0;\n",
       "  margin-top: 3px;\n",
       "}\n",
       "\n",
       "summary {\n",
       "  font-weight: bold;\n",
       "  margin: -0.5em -0.5em 0;\n",
       "  padding: 0.5em;\n",
       "}\n",
       "\n",
       "details[open] {\n",
       "  padding: 0.5em;\n",
       "}\n",
       "\n",
       "details[open] summary {\n",
       "  border-bottom: 1px solid #aaa;\n",
       "  margin-bottom: 0.5em;\n",
       "}\n",
       "</style>\n",
       "\n"
      ],
      "text/plain": [
       "<IPython.core.display.HTML object>"
      ]
     },
     "metadata": {},
     "output_type": "display_data"
    },
    {
     "data": {
      "image/png": "[encoded data removed]",
      "text/plain": [
       "<Figure size 1000x600 with 1 Axes>"
      ]
     },
     "metadata": {},
     "output_type": "display_data"
    }
   ],
   "source": [
    "df.chat('Quelle est la vente par catégorie de produit ?')"
   ]
  },
  {
   "cell_type": "code",
   "execution_count": null,
   "id": "f0cda031",
   "metadata": {},
   "outputs": [],
   "source": []
  }
 ],
 "metadata": {
  "kernelspec": {
   "display_name": "Python 3 (ipykernel)",
   "language": "python",
   "name": "python3"
  },
  "language_info": {
   "codemirror_mode": {
    "name": "ipython",
    "version": 3
   },
   "file_extension": ".py",
   "mimetype": "text/x-python",
   "name": "python",
   "nbconvert_exporter": "python",
   "pygments_lexer": "ipython3",
   "version": "3.10.15"
  }
 },
 "nbformat": 4,
 "nbformat_minor": 5
}
